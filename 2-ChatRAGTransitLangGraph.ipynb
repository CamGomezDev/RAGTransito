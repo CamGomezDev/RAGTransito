{
 "cells": [
  {
   "cell_type": "markdown",
   "metadata": {},
   "source": [
    "# RAG Manual de Tránsito"
   ]
  },
  {
   "cell_type": "code",
   "execution_count": 1,
   "metadata": {},
   "outputs": [],
   "source": [
    "import os\n",
    "import re\n",
    "from dotenv import load_dotenv\n",
    "from typing_extensions import List, TypedDict\n",
    "\n",
    "from langchain.document_loaders import TextLoader\n",
    "from langchain.text_splitter import RecursiveCharacterTextSplitter\n",
    "from langchain.prompts import ChatPromptTemplate\n",
    "from langchain.load import dumps, loads\n",
    "\n",
    "from langchain_core.documents import Document\n",
    "from langchain_core.output_parsers import StrOutputParser\n",
    "from langchain_core.tools import tool\n",
    "from langchain_core.messages import SystemMessage\n",
    "\n",
    "from langchain_openai import OpenAIEmbeddings, ChatOpenAI\n",
    "\n",
    "from langchain_community.vectorstores import Chroma\n",
    "\n",
    "from langgraph.graph import START, StateGraph, MessagesState, END\n",
    "from langgraph.prebuilt import ToolNode, tools_condition"
   ]
  },
  {
   "cell_type": "markdown",
   "metadata": {},
   "source": [
    "### Load environment variables"
   ]
  },
  {
   "cell_type": "code",
   "execution_count": 2,
   "metadata": {},
   "outputs": [],
   "source": [
    "# Define the path to the .env file (one directory above)\n",
    "dotenv_path = '.env'\n",
    "\n",
    "# Load the .env file\n",
    "load_dotenv(dotenv_path)\n",
    "\n",
    "# Access the API key\n",
    "openai_api_key = os.getenv('OPENAI_API_KEY')\n",
    "langsmith_api_key = os.getenv('LANGSMITH_API_KEY')"
   ]
  },
  {
   "cell_type": "code",
   "execution_count": 3,
   "metadata": {},
   "outputs": [],
   "source": [
    "os.environ['LANGCHAIN_TRACING_V2'] = 'true'\n",
    "os.environ['LANGCHAIN_ENDPOINT'] = 'https://api.smith.langchain.com'\n",
    "os.environ['LANGCHAIN_API_KEY'] = langsmith_api_key\n",
    "os.environ['OPENAI_API_KEY'] = openai_api_key"
   ]
  },
  {
   "cell_type": "markdown",
   "metadata": {},
   "source": [
    "### Index files in vector store"
   ]
  },
  {
   "cell_type": "code",
   "execution_count": 4,
   "metadata": {},
   "outputs": [],
   "source": [
    "# Load local text file\n",
    "file_path = \"ley-769-de-2002-codigo-nacional-de-transito_3704_0_processed.txt\"\n",
    "loader = TextLoader(file_path)\n",
    "docs = loader.load()\n",
    "\n",
    "def clean_section_text(text):\n",
    "    \"\"\"\n",
    "    Remove the article header up to the next uppercase letter.\n",
    "    \"\"\"\n",
    "    # Pattern to match from article header to next uppercase letter\n",
    "    header_pattern = r'^(?:ARTÍCULO|ARTICULO|Artículo|Articulo)\\s+\\d+.*?(?=[A-ZÁÉÍÓÚÑ])'\n",
    "    cleaned_text = re.sub(header_pattern, '', text, flags=re.DOTALL)\n",
    "    return cleaned_text.strip()\n",
    "\n",
    "def extract_article_sections(text):\n",
    "    \"\"\"\n",
    "    Extract sections of text between article markers and assign article numbers.\n",
    "    Only matches when starting with capital A ('ARTÍCULO' or 'Artículo').\n",
    "    Returns a list of (text, article_number) tuples with cleaned section text.\n",
    "    \"\"\"\n",
    "    # Pattern that only matches when starting with capital A\n",
    "    article_pattern = r'(?:ARTÍCULO|ARTICULO|Artículo|Articulo)\\s+(\\d+)'\n",
    "    \n",
    "    # Find all article markers with their positions\n",
    "    article_matches = list(re.finditer(article_pattern, text))\n",
    "    \n",
    "    article_sections = []\n",
    "    \n",
    "    # Process each article section\n",
    "    for i in range(len(article_matches)):\n",
    "        start_pos = article_matches[i].start()\n",
    "        article_num = article_matches[i].group(1)\n",
    "\n",
    "        # Get end position (either next article or end of text)\n",
    "        if i < len(article_matches) - 1:\n",
    "            end_pos = article_matches[i + 1].start()\n",
    "        else:\n",
    "            end_pos = len(text)\n",
    "        \n",
    "        section_text = text[start_pos:end_pos]\n",
    "        # Clean the section text by removing the header\n",
    "        cleaned_section = clean_section_text(section_text)\n",
    "        article_sections.append((cleaned_section, article_num))\n",
    "    \n",
    "    return article_sections\n",
    "\n",
    "# Process the original text to get article sections\n",
    "original_text = docs[0].page_content\n",
    "article_sections = extract_article_sections(original_text)\n",
    "\n",
    "# Modified text splitter\n",
    "text_splitter = RecursiveCharacterTextSplitter.from_tiktoken_encoder(\n",
    "    chunk_size=300,\n",
    "    chunk_overlap=50\n",
    ")\n",
    "\n",
    "# Create splits with article metadata\n",
    "splits = []\n",
    "for section_text, article_num in article_sections:\n",
    "    section_splits = text_splitter.create_documents(\n",
    "        texts=[section_text],\n",
    "        metadatas=[{\n",
    "            \"source\": file_path,\n",
    "            \"source_article\": article_num\n",
    "        }]\n",
    "    )\n",
    "    splits.extend(section_splits)\n",
    "\n",
    "# Index with the enhanced metadata\n",
    "vector_store = Chroma.from_documents(\n",
    "    documents=splits,\n",
    "    embedding=OpenAIEmbeddings()\n",
    ")\n",
    "\n",
    "retriever = vector_store.as_retriever()"
   ]
  },
  {
   "cell_type": "markdown",
   "metadata": {},
   "source": [
    "### Create chat models"
   ]
  },
  {
   "cell_type": "code",
   "execution_count": 5,
   "metadata": {},
   "outputs": [],
   "source": [
    "retriever_llm = ChatOpenAI(model_name=\"gpt-3.5-turbo\", temperature=0)\n",
    "generator_llm = ChatOpenAI(model_name=\"gpt-4o\", temperature=0)"
   ]
  },
  {
   "cell_type": "markdown",
   "metadata": {},
   "source": [
    "### Define retriever tool"
   ]
  },
  {
   "cell_type": "code",
   "execution_count": 6,
   "metadata": {},
   "outputs": [],
   "source": [
    "def get_unique_union(documents: list[list]):\n",
    "    \"\"\" Unique union of retrieved docs with article numbers \"\"\"\n",
    "    # Flatten list of lists, and convert each Document to string\n",
    "    # We'll add the article number to the string representation to make it part of uniqueness check\n",
    "    flattened_docs = [dumps(doc.page_content + doc.metadata.get('source_article', '')) \n",
    "                    for sublist in documents \n",
    "                    for doc in sublist]\n",
    "    # print(\"Total number of docs retrieved\", len(flattened_docs))\n",
    "    unique_docs = list(set(flattened_docs))\n",
    "    # print(\"Total number of unique docs retrieved\", len(unique_docs))\n",
    "\n",
    "    # When loading back, we need to split the content and metadata\n",
    "    loaded_unique_docs = []\n",
    "    for doc_str in unique_docs:\n",
    "        doc = loads(doc_str)\n",
    "        # Get original document from documents list to preserve metadata\n",
    "        original_doc = next((d for sublist in documents \n",
    "                        for d in sublist \n",
    "                        if d.page_content + d.metadata.get('source_article', '') == doc), None)\n",
    "        if original_doc:\n",
    "            loaded_unique_docs.append(original_doc)\n",
    "\n",
    "    # for doc in loaded_unique_docs:\n",
    "    #     print(\"=======================\")\n",
    "    #     print(f\"Article {doc.metadata.get('source_article', 'N/A')}:\")\n",
    "    #     print(doc.page_content)\n",
    "\n",
    "    return loaded_unique_docs"
   ]
  },
  {
   "cell_type": "code",
   "execution_count": 7,
   "metadata": {},
   "outputs": [],
   "source": [
    "# Modified chain to format context with article numbers\n",
    "def format_context_with_articles(docs):\n",
    "    formatted_contexts = []\n",
    "    for doc in docs:\n",
    "        article_num = doc.metadata.get('source_article', 'N/A')\n",
    "        formatted_contexts.append(f\"[Artículo {article_num}] {doc.page_content}\")\n",
    "\n",
    "    # print(\"++++++++++++++++++\")\n",
    "    # print(\"\\n\\n\".join(formatted_contexts))\n",
    "    return \"\\n\\n\".join(formatted_contexts)"
   ]
  },
  {
   "cell_type": "code",
   "execution_count": 8,
   "metadata": {},
   "outputs": [],
   "source": [
    "@tool(response_format=\"content_and_artifact\")\n",
    "def extraer(pregunta: str):\n",
    "    \"\"\"Extrae información relacionada a la pregunta\"\"\"\n",
    "    # Multi Query: Different Perspectives\n",
    "    template = (\n",
    "        \"Eres una IA asistente modelo de lenguaje. Tu tarea es generar cinco \"\n",
    "        \"diferentes versiones de la pregunta dada por el usuario para extraer los \"\n",
    "        \"documentos relevantes de una base de datos de vectores. Al generar múltiples \"\n",
    "        \"perspectivas de la pregunta del usuario, tu objetivo es ayudar al usuario \"\n",
    "        \"a superar algunas de las limitaciones de la búsqueda de similaridad basada \"\n",
    "        \"en distancia. Escribe estas preguntas alternativas separadas por caracteres \"\n",
    "        \"de nueva línea, sin enumerar ni listar. Pregunta original: {pregunta}\"\n",
    "    )\n",
    "\n",
    "    prompt_perspectives = ChatPromptTemplate.from_template(template)\n",
    "\n",
    "    generate_queries = (\n",
    "        prompt_perspectives\n",
    "        | retriever_llm\n",
    "        | StrOutputParser()\n",
    "        | (lambda x: x.split(\"\\n\"))\n",
    "    )\n",
    "\n",
    "    # retriever.map is the one that brings the list of documents most similar\n",
    "    # to each of the queries generated by generate_queries\n",
    "\n",
    "    retrieval_chain = generate_queries | retriever.map() | get_unique_union\n",
    "    docs = retrieval_chain.invoke({\"pregunta\": pregunta})\n",
    "\n",
    "    serialized = format_context_with_articles(docs)\n",
    "\n",
    "    return serialized, docs\n",
    "\n",
    "# Wrap the retriever in a ToolNode\n",
    "tools = ToolNode([extraer])\n",
    "retriever_llm_with_tools = retriever_llm.bind_tools([extraer])"
   ]
  },
  {
   "cell_type": "markdown",
   "metadata": {},
   "source": [
    "### Define query and generator graph nodes"
   ]
  },
  {
   "cell_type": "code",
   "execution_count": 9,
   "metadata": {},
   "outputs": [],
   "source": [
    "# Step 1: Generate an AIMessage that may include a tool-call to be sent.\n",
    "def query_or_respond(state: MessagesState):\n",
    "    \"\"\"Generate tool call for retrieval or respond.\"\"\"\n",
    "    response = retriever_llm_with_tools.invoke(state[\"messages\"])\n",
    "    # MessagesState appends messages to state instead of overwriting\n",
    "    return {\"messages\": [response]}\n",
    "\n",
    "# Step 2: Generate a response using the retrieved content.\n",
    "def generate(state: MessagesState):\n",
    "    \"\"\"Generate answer.\"\"\"\n",
    "    # Get generated ToolMessages\n",
    "    recent_tool_messages = []\n",
    "    for message in reversed(state[\"messages\"]):\n",
    "        if message.type == \"tool\":\n",
    "            recent_tool_messages.append(message)\n",
    "        else:\n",
    "            break\n",
    "    tool_messages = recent_tool_messages[::-1]\n",
    "\n",
    "    # Format into prompt\n",
    "    docs_content = \"\\n\\n\".join(doc.content for doc in tool_messages)\n",
    "\n",
    "    system_message_content = (\n",
    "        \"Eres un asistente de leyes de tránsito en Colombia. Usa las siguientes \"\n",
    "        \"piezas de contexto extraídas para responder la pregunta. Si la respuesta \"\n",
    "        \"no está en el contexto, di que no sabes. Primero menciona la respuesta \"\n",
    "        \"rápida (si la hay), y después da un poco más de detalles, mencionando \"\n",
    "        \"el artículo en que te basaste en cada parte de la respuesta al principio \"\n",
    "        \"de dicha parte, diciendo \\\"Basado en el artículo X,...\\\"\"\n",
    "        \"\\n\\n\"\n",
    "        \"Contexto con artículos:\\n\\n\"\n",
    "        f\"{docs_content}\"\n",
    "    )\n",
    "\n",
    "    conversation_messages = [\n",
    "        message\n",
    "        for message in state[\"messages\"]\n",
    "        if message.type in (\"human\", \"system\")\n",
    "        or (message.type == \"ai\" and not message.tool_calls)\n",
    "    ]\n",
    "    prompt = [SystemMessage(system_message_content)] + conversation_messages\n",
    "\n",
    "    # Run\n",
    "    response = generator_llm.invoke(prompt)\n",
    "    return {\"messages\": [response]}"
   ]
  },
  {
   "cell_type": "markdown",
   "metadata": {},
   "source": [
    "### Build Graph"
   ]
  },
  {
   "cell_type": "code",
   "execution_count": 10,
   "metadata": {},
   "outputs": [],
   "source": [
    "graph_builder = StateGraph(MessagesState)"
   ]
  },
  {
   "cell_type": "code",
   "execution_count": 11,
   "metadata": {},
   "outputs": [],
   "source": [
    "# Compile application and test\n",
    "graph_builder.add_node(query_or_respond)\n",
    "graph_builder.add_node(tools)\n",
    "graph_builder.add_node(generate)\n",
    "\n",
    "graph_builder.set_entry_point(\"query_or_respond\")\n",
    "graph_builder.add_conditional_edges(\n",
    "    \"query_or_respond\",\n",
    "    tools_condition,\n",
    "    {END: END, \"tools\": \"tools\"},\n",
    ")\n",
    "graph_builder.add_edge(\"tools\", \"generate\")\n",
    "graph_builder.add_edge(\"generate\", END)\n",
    "\n",
    "graph = graph_builder.compile()"
   ]
  },
  {
   "cell_type": "markdown",
   "metadata": {},
   "source": [
    "### Test"
   ]
  },
  {
   "cell_type": "code",
   "execution_count": 12,
   "metadata": {},
   "outputs": [
    {
     "name": "stdout",
     "output_type": "stream",
     "text": [
      "================================\u001b[1m Human Message \u001b[0m=================================\n",
      "\n",
      "Hola\n",
      "==================================\u001b[1m Ai Message \u001b[0m==================================\n",
      "\n",
      "¡Hola! ¿En qué puedo ayudarte hoy?\n"
     ]
    }
   ],
   "source": [
    "input_message = \"Hola\"\n",
    "\n",
    "for step in graph.stream(\n",
    "    {\"messages\": [{\"role\": \"user\", \"content\": input_message}]},\n",
    "    stream_mode=\"values\",\n",
    "):\n",
    "    step[\"messages\"][-1].pretty_print()"
   ]
  },
  {
   "cell_type": "code",
   "execution_count": 13,
   "metadata": {},
   "outputs": [
    {
     "name": "stdout",
     "output_type": "stream",
     "text": [
      "================================\u001b[1m Human Message \u001b[0m=================================\n",
      "\n",
      "una moto puede ir por la linea punteada amarilla entre carros\n",
      "==================================\u001b[1m Ai Message \u001b[0m==================================\n",
      "Tool Calls:\n",
      "  extraer (call_TWULohwqQJcauzee5N28s6wo)\n",
      " Call ID: call_TWULohwqQJcauzee5N28s6wo\n",
      "  Args:\n",
      "    pregunta: una moto puede ir por la linea punteada amarilla entre carros\n"
     ]
    },
    {
     "name": "stderr",
     "output_type": "stream",
     "text": [
      "C:\\Users\\Camilo\\AppData\\Local\\Temp\\ipykernel_31872\\1779226023.py:15: LangChainBetaWarning: The function `loads` is in beta. It is actively being worked on, so the API may change.\n",
      "  doc = loads(doc_str)\n"
     ]
    },
    {
     "name": "stdout",
     "output_type": "stream",
     "text": [
      "=================================\u001b[1m Tool Message \u001b[0m=================================\n",
      "Name: extraer\n",
      "\n",
      "[Artículo 68] De cuatro (4) carriles: Los carriles exteriores se utilizarán para el tránsito ordinario de vehículos, y los interiores, para maniobras de adelantamiento o para circular a mayores velocidades dentro de los límites establecidos.\n",
      "PARÁGRAFO 1o. Sin perjuicio de las normas que sobre el particular se establecen en este código, las bicicletas, motocicletas, motociclos, mototriciclos y vehículos de tracción animal e impulsión humana, transitarán de acuerdo con las reglas que en cada caso dicte la autoridad de tránsito competente. En todo caso, estará prohibido transitar por los andenes o aceras, o puentes de uso exclusivo para los peatones.\n",
      "PARÁGRAFO 2o. Se prohíbe el tránsito de motocicletas y motociclos por las ciclorrutas o ciclovías. En caso de infracción se procederá a la inmovilización.\n",
      "\n",
      "[Artículo 60] OBLIGATORIEDAD DE TRANSITAR POR LOS CARRILES\n",
      "DEMARCADOS. Los vehículos deben transitar, obligatoriamente, por sus respectivos carriles, dentro de las líneas de demarcación, y atravesarlos solamente para efectuar maniobras de adelantamiento o de cruce.\n",
      "PARÁGRAFO 1o. Los conductores no podrán transitar con vehículo automotor o de tracción animal por la zona de seguridad y protección de la vía férrea.\n",
      "PARÁGRAFO 2o. Todo conductor, antes de efectuar un adelantamiento o cruce de una calzada a otra o de un carril a otro, debe anunciar su intención por medio de las luces direccionales y señales ópticas o audibles y efectuar la maniobra de forma que no entorpezca el tránsito, ni ponga en peligro a los demás vehículos o peatones.\n",
      "\n",
      "[Artículo 94] NORMAS GENERALES PARA BICICLETAS, TRICICLOS,\n",
      "MOTOCICLETAS, MOTOCICLOS Y MOTOTRICICLOS. Los conductores de bicicletas, triciclos, motocicletas, motociclos y mototriciclos, estarán sujetos a las siguientes normas:\n",
      "Deben transitar por la derecha de las vías a distancia no mayor de un (1) metro de la acera u orilla y nunca utilizar las vías exclusivas para servicio público colectivo.\n",
      "Los conductores de estos tipos de vehículos y sus acompañantes deben vestir chalecos o chaquetas reflectivas de identificación que deben ser visibles cuando se conduzca entre las 18:00 y las 6:00 horas del día siguiente, y siempre que la visibilidad sea escasa.\n",
      "Los conductores que transiten en grupo lo harán uno detrás de otro.\n",
      "\n",
      "[Artículo 58] PROHIBICIONES A LOS PEATONES. Los peatones no podrán:\n",
      "Invadir la zona destinada al tránsito de vehículos, ni transitar en ésta en patines, monopatines, patinetas o similares. Texto subrayado declarado EXEQUIBLE por la Corte Constitucional mediante Sentencia C-449 de 2003\n",
      "Llevar, sin las debidas precauciones, elementos que puedan obstaculizar o afectar el tránsito.\n",
      "Cruzar por sitios no permitidos o transitar sobre el guardavías del ferrocarril.\n",
      "Colocarse delante o detrás de un vehículo que tenga el motor encendido.\n",
      "\n",
      "[Artículo 70] Cuando un vehículo se encuentre dentro de una glorieta, tiene prelación sobre los que van a entrar a ella, siempre y cuando esté en movimiento.\n",
      "Cuando dos vehículos que transitan por vías diferentes llegan a una intersección y uno de ellos va a girar a la derecha, tiene prelación el vehículo que se encuentra a la derecha.\n",
      "Cuando un vehículo desee girar a la izquierda o a la derecha, debe buscar con anterioridad el carril más cercano a su giro e ingresar a la otra vía por el carril más próximo según el sentido de circulación.\n",
      "\n",
      "[Artículo 94] Los conductores que transiten en grupo lo harán uno detrás de otro.\n",
      "No deben sujetarse de otro vehículo o viajar cerca de otro carruaje de mayor tamaño que lo oculte de la vista de los conductores que transiten en sentido contrario.\n",
      "\n",
      "[Artículo 118] Amarilla: Indica atención para un cambio de luces o señales y para que el cruce sea desalojado por los vehículos que se encuentran en él o se abstengan de ingresar en el cruce aun disponiendo de espacio para hacerlo. No debe iniciarse la marcha en luz amarilla, ni incrementarse la velocidad durante ese lapso.\n",
      "No se debe ingresar en amarillo a la intersección y si un vehículo ya está en la intersección en luz amarilla mantendrá la prelación hasta culminar el cruce.\n",
      "Verde: Significa vía libre\n",
      "==================================\u001b[1m Ai Message \u001b[0m==================================\n",
      "\n",
      "No, una moto no puede ir por la línea punteada amarilla entre carros. \n",
      "\n",
      "Basado en el artículo 60, los vehículos deben transitar obligatoriamente por sus respectivos carriles, dentro de las líneas de demarcación, y solo pueden atravesarlos para efectuar maniobras de adelantamiento o de cruce. Además, el artículo 94 establece que los conductores de motocicletas deben transitar por la derecha de las vías a una distancia no mayor de un metro de la acera u orilla. Por lo tanto, circular entre los carriles, especialmente por la línea punteada amarilla, no está permitido.\n"
     ]
    }
   ],
   "source": [
    "input_message = \"una moto puede ir por la linea punteada amarilla entre carros\"\n",
    "\n",
    "for step in graph.stream(\n",
    "    {\"messages\": [{\"role\": \"user\", \"content\": input_message}]},\n",
    "    stream_mode=\"values\",\n",
    "):\n",
    "    step[\"messages\"][-1].pretty_print()"
   ]
  }
 ],
 "metadata": {
  "kernelspec": {
   "display_name": "langchain-env",
   "language": "python",
   "name": "python3"
  },
  "language_info": {
   "codemirror_mode": {
    "name": "ipython",
    "version": 3
   },
   "file_extension": ".py",
   "mimetype": "text/x-python",
   "name": "python",
   "nbconvert_exporter": "python",
   "pygments_lexer": "ipython3",
   "version": "3.10.16"
  }
 },
 "nbformat": 4,
 "nbformat_minor": 2
}
