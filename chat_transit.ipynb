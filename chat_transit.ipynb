{
 "cells": [
  {
   "cell_type": "markdown",
   "metadata": {},
   "source": [
    "# Chat with the Transit Code\n",
    "\n",
    "This notebook shows how to use the chat system to consult with the transit code."
   ]
  },
  {
   "cell_type": "code",
   "execution_count": 1,
   "metadata": {},
   "outputs": [],
   "source": [
    "import os\n",
    "from dotenv import load_dotenv\n",
    "\n",
    "# Load environment variables\n",
    "load_dotenv('.env')\n",
    "\n",
    "# Configure environment\n",
    "os.environ['LANGCHAIN_TRACING_V2'] = 'true'\n",
    "os.environ['LANGCHAIN_ENDPOINT'] = 'https://api.smith.langchain.com'\n",
    "os.environ['LANGCHAIN_API_KEY'] = os.getenv('LANGSMITH_API_KEY')\n",
    "os.environ['OPENAI_API_KEY'] = os.getenv('OPENAI_API_KEY')"
   ]
  },
  {
   "cell_type": "code",
   "execution_count": 2,
   "metadata": {},
   "outputs": [],
   "source": [
    "from src.document_loader import load_and_process_document\n",
    "from src.graph_wrapper import build_graph\n",
    "\n",
    "# Load and process the document\n",
    "\n",
    "file_path = os.path.abspath(\"./data/ley-769-de-2002-codigo-nacional-de-transito_3704_0_processed.txt\")\n",
    "vector_store = load_and_process_document(file_path)\n",
    "graph = build_graph(vector_store)"
   ]
  },
  {
   "cell_type": "markdown",
   "metadata": {},
   "source": [
    "### Test the Chat\n",
    "\n",
    "Now you can make quustions about the transit code:"
   ]
  },
  {
   "cell_type": "code",
   "execution_count": 3,
   "metadata": {},
   "outputs": [
    {
     "name": "stdout",
     "output_type": "stream",
     "text": [
      "================================\u001b[1m Human Message \u001b[0m=================================\n",
      "\n",
      "Hola\n",
      "==================================\u001b[1m Ai Message \u001b[0m==================================\n",
      "\n",
      "¡Hola! ¿En qué puedo ayudarte hoy?\n"
     ]
    }
   ],
   "source": [
    "input_message = \"Hola\"\n",
    "\n",
    "for step in graph.stream(\n",
    "    {\"messages\": [{\"role\": \"user\", \"content\": input_message}]},\n",
    "    stream_mode=\"values\",\n",
    "):\n",
    "    step[\"messages\"][-1].pretty_print()"
   ]
  },
  {
   "cell_type": "code",
   "execution_count": 4,
   "metadata": {},
   "outputs": [
    {
     "name": "stdout",
     "output_type": "stream",
     "text": [
      "================================\u001b[1m Human Message \u001b[0m=================================\n",
      "\n",
      "una moto puede ir por la linea punteada amarilla entre carros\n",
      "==================================\u001b[1m Ai Message \u001b[0m==================================\n",
      "Tool Calls:\n",
      "  extraer (call_Q4ceh3AYhCuJndHeHTQRSilh)\n",
      " Call ID: call_Q4ceh3AYhCuJndHeHTQRSilh\n",
      "  Args:\n",
      "    pregunta: una moto puede ir por la linea punteada amarilla entre carros\n"
     ]
    },
    {
     "name": "stderr",
     "output_type": "stream",
     "text": [
      "d:\\Users\\camig\\Projects\\RAG-CodigoTransito\\src\\retriever_utils.py:15: LangChainBetaWarning: The function `loads` is in beta. It is actively being worked on, so the API may change.\n",
      "  doc = loads(doc_str)\n"
     ]
    },
    {
     "name": "stdout",
     "output_type": "stream",
     "text": [
      "=================================\u001b[1m Tool Message \u001b[0m=================================\n",
      "Name: extraer\n",
      "\n",
      "[Artículo 68] De cuatro (4) carriles: Los carriles exteriores se utilizarán para el tránsito ordinario de vehículos, y los interiores, para maniobras de adelantamiento o para circular a mayores velocidades dentro de los límites establecidos.\n",
      "PARÁGRAFO 1o. Sin perjuicio de las normas que sobre el particular se establecen en este código, las bicicletas, motocicletas, motociclos, mototriciclos y vehículos de tracción animal e impulsión humana, transitarán de acuerdo con las reglas que en cada caso dicte la autoridad de tránsito competente. En todo caso, estará prohibido transitar por los andenes o aceras, o puentes de uso exclusivo para los peatones.\n",
      "PARÁGRAFO 2o. Se prohíbe el tránsito de motocicletas y motociclos por las ciclorrutas o ciclovías. En caso de infracción se procederá a la inmovilización.\n",
      "\n",
      "[Artículo 60] OBLIGATORIEDAD DE TRANSITAR POR LOS CARRILES\n",
      "DEMARCADOS. Los vehículos deben transitar, obligatoriamente, por sus respectivos carriles, dentro de las líneas de demarcación, y atravesarlos solamente para efectuar maniobras de adelantamiento o de cruce.\n",
      "PARÁGRAFO 1o. Los conductores no podrán transitar con vehículo automotor o de tracción animal por la zona de seguridad y protección de la vía férrea.\n",
      "PARÁGRAFO 2o. Todo conductor, antes de efectuar un adelantamiento o cruce de una calzada a otra o de un carril a otro, debe anunciar su intención por medio de las luces direccionales y señales ópticas o audibles y efectuar la maniobra de forma que no entorpezca el tránsito, ni ponga en peligro a los demás vehículos o peatones.\n",
      "\n",
      "[Artículo 58] PROHIBICIONES A LOS PEATONES. Los peatones no podrán:\n",
      "Invadir la zona destinada al tránsito de vehículos, ni transitar en ésta en patines, monopatines, patinetas o similares. Texto subrayado declarado EXEQUIBLE por la Corte Constitucional mediante Sentencia C-449 de 2003\n",
      "Llevar, sin las debidas precauciones, elementos que puedan obstaculizar o afectar el tránsito.\n",
      "Cruzar por sitios no permitidos o transitar sobre el guardavías del ferrocarril.\n",
      "Colocarse delante o detrás de un vehículo que tenga el motor encendido.\n",
      "\n",
      "[Artículo 94] NORMAS GENERALES PARA BICICLETAS, TRICICLOS,\n",
      "MOTOCICLETAS, MOTOCICLOS Y MOTOTRICICLOS. Los conductores de bicicletas, triciclos, motocicletas, motociclos y mototriciclos, estarán sujetos a las siguientes normas:\n",
      "Deben transitar por la derecha de las vías a distancia no mayor de un (1) metro de la acera u orilla y nunca utilizar las vías exclusivas para servicio público colectivo.\n",
      "Los conductores de estos tipos de vehículos y sus acompañantes deben vestir chalecos o chaquetas reflectivas de identificación que deben ser visibles cuando se conduzca entre las 18:00 y las 6:00 horas del día siguiente, y siempre que la visibilidad sea escasa.\n",
      "Los conductores que transiten en grupo lo harán uno detrás de otro.\n",
      "\n",
      "[Artículo 70] Cuando un vehículo se encuentre dentro de una glorieta, tiene prelación sobre los que van a entrar a ella, siempre y cuando esté en movimiento.\n",
      "Cuando dos vehículos que transitan por vías diferentes llegan a una intersección y uno de ellos va a girar a la derecha, tiene prelación el vehículo que se encuentra a la derecha.\n",
      "Cuando un vehículo desee girar a la izquierda o a la derecha, debe buscar con anterioridad el carril más cercano a su giro e ingresar a la otra vía por el carril más próximo según el sentido de circulación.\n",
      "\n",
      "[Artículo 94] Los conductores que transiten en grupo lo harán uno detrás de otro.\n",
      "No deben sujetarse de otro vehículo o viajar cerca de otro carruaje de mayor tamaño que lo oculte de la vista de los conductores que transiten en sentido contrario.\n",
      "\n",
      "[Artículo 118] Amarilla: Indica atención para un cambio de luces o señales y para que el cruce sea desalojado por los vehículos que se encuentran en él o se abstengan de ingresar en el cruce aun disponiendo de espacio para hacerlo. No debe iniciarse la marcha en luz amarilla, ni incrementarse la velocidad durante ese lapso.\n",
      "No se debe ingresar en amarillo a la intersección y si un vehículo ya está en la intersección en luz amarilla mantendrá la prelación hasta culminar el cruce.\n",
      "Verde: Significa vía libre\n",
      "==================================\u001b[1m Ai Message \u001b[0m==================================\n",
      "\n",
      "Basado en el artículo 60, los vehículos deben transitar, obligatoriamente, por sus respectivos carriles, dentro de las líneas de demarcación, y atravesarlos solamente para efectuar maniobras de adelantamiento o de cruce. Esto significa que una moto no puede ir por la línea punteada amarilla entre carros, ya que debe mantenerse dentro de su carril respectivo a menos que esté realizando una maniobra de adelantamiento o cruce.\n"
     ]
    }
   ],
   "source": [
    "# Example question\n",
    "input_message = \"una moto puede ir por la linea punteada amarilla entre carros\"\n",
    "\n",
    "for step in graph.stream(\n",
    "    {\"messages\": [{\"role\": \"user\", \"content\": input_message}]},\n",
    "    stream_mode=\"values\",\n",
    "):\n",
    "    step[\"messages\"][-1].pretty_print()"
   ]
  },
  {
   "cell_type": "code",
   "execution_count": 5,
   "metadata": {},
   "outputs": [
    {
     "name": "stdout",
     "output_type": "stream",
     "text": [
      "================================\u001b[1m Human Message \u001b[0m=================================\n",
      "\n",
      "cuanto es la multa por exceder el limite de velocidad en zona escolar\n",
      "==================================\u001b[1m Ai Message \u001b[0m==================================\n",
      "Tool Calls:\n",
      "  extraer (call_dTOkySkt6uzHQY99EgZLw9tR)\n",
      " Call ID: call_dTOkySkt6uzHQY99EgZLw9tR\n",
      "  Args:\n",
      "    pregunta: cuanto es la multa por exceder el limite de velocidad en zona escolar\n",
      "=================================\u001b[1m Tool Message \u001b[0m=================================\n",
      "Name: extraer\n",
      "\n",
      "[Artículo 154] CENTROS DE ENSEÑANZA. El incumplimiento de las normas que regulan el funcionamiento de los centros de enseñanza automovilística será sancionado de acuerdo con la gravedad de la falta, según lo estipulado por la autoridad competente.\n",
      "\n",
      "[Artículo 130] GRADUALIDAD. Las sanciones por infracciones a las normas de tránsito se aplicarán teniendo en cuenta la gravedad de la infracción. Para este efecto se tendrá en consideración el grado de peligro tanto para los peatones como para los automovilistas. En caso de fuga se duplicará la multa.\n",
      "\n",
      "[Artículo 159] PARÁGRAFO 2o. Las multas serán de propiedad exclusiva de los organismos de tránsito donde se cometió la infracción de acuerdo con su jurisdicción. El monto de aquellas multas que sean impuestas sobre las vías nacionales, por parte del personal de la Policía Nacional adscrito a la Policía de carreteras, se distribuirá el 50% para el municipio donde se entregue el correspondiente comparendo y el 50% para apoyar la capacitación del personal de la policía de carreteras y los planes de educación y seguridad vial que adelanta esta Especialidad a lo largo de la Red Vial Nacional.\n",
      "\n",
      "[Artículo 74] REDUCCIÓN DE VELOCIDAD. Los conductores deben reducir la velocidad a treinta (30) kilómetros por hora en los siguientes casos:\n",
      "En lugares de concentración de personas y en zonas residenciales.\n",
      "En las zonas escolares.\n",
      "Cuando se reduzcan las condiciones de visibilidad.\n",
      "Cuando las señales de tránsito así lo ordenen.\n",
      "En proximidad a una intersección.\n",
      "\n",
      "[Artículo 131] Transitar por zonas prohibidas.\n",
      "Adelantar entre dos (2) vehículos automotores que estén en sus respectivos carriles.\n",
      "Conducir por la vía férrea o por zonas de protección y seguridad.\n",
      "Transitar por zonas restringidas o por vías de alta velocidad como autopistas y arterias, en este caso el vehículo automotor será inmovilizado.\n",
      "B. Será sancionado con multa equivalente a ocho (8) salarios mínimos legales diarios vigentes, el conductor de un vehículo automotor que incurra en cualquiera de las siguientes infracciones: \n",
      "Conducir un vehículo sin llevar consigo la licencia de conducción.\n",
      "Conducir un vehículo con la licencia de conducción vencida.\n",
      "Conducir un vehículo:\n",
      "Sin placas, o sin el permiso vigente expedido por autoridad de tránsito.\n",
      "Con placas adulteradas.\n",
      "Con una sola placa, o sin el permiso vigente expedido por autoridad de tránsito.\n",
      "Con placas falsas.\n",
      "\n",
      "[Artículo 123] AMONESTACIÓN. Las autoridades de tránsito podrán amonestar a los infractores. La amonestación consiste en la asistencia a cursos obligatorios de educación vial. El infractor que incumpla la citación al curso será sancionado con multa equivalente a cinco (5) salarios mínimos.\n",
      "\n",
      "[Artículo 106] LÍMITES DE VELOCIDAD EN ZONAS URBANAS PÚBLICO. En vías urbanas las velocidades máximas serán de sesenta (60) kilómetros por hora excepto cuando las autoridades competentes por medio de señales indiquen velocidades distintas.\n",
      "\n",
      "[Artículo 131] Llevar niños menores de diez (10) años en el asiento delantero.\n",
      "C. Será sancionado con multa equivalente a quince (15) salarios mínimos legales diarios vigentes, el conductor de un vehículo automotor que incurra en cualquiera de las siguientes infracciones:\n",
      "Presentar licencia de conducción adulterada o ajena lo cual dará lugar a la inmovilización del vehículo.\n",
      "Estacionar un vehículo en sitios prohibidos.\n",
      "Bloquear una calzada o intersección con un vehículo.\n",
      "Estacionar un vehículo sin tomar las debidas precauciones o sin colocar a la distancia señalada por este código, las señales de peligro reglamentarias.\n",
      "No reducir la velocidad según lo indicado por este código, cuando transite por un cruce escolar en los horarios y días de funcionamiento de la institución educativa.\n",
      "\n",
      "[Artículo 107] LÍMITES DE VELOCIDAD EN ZONAS RURALES. La velocidad máxima permitida en zonas rurales será de ochenta (80) Kilómetros por hora. En los trayectos de las autopistas y vías arterias en que las especificaciones de diseño y las condiciones así lo permitan, las autoridades podrán autorizar velocidades máximas hasta de (100) kilómetros por hora por medio de señales adecuadas.\n",
      "PARÁGRAFO. De acuerdo con las características de operación de la vía y las clases de vehículos, las autoridades de tránsito competentes determinarán la correspondiente señalización y las velocidades máximas y mínimas permitidas.\n",
      "==================================\u001b[1m Ai Message \u001b[0m==================================\n",
      "\n",
      "Basado en el artículo 131, el conductor de un vehículo que no reduzca la velocidad cuando transite por un cruce escolar en los horarios y días de funcionamiento de la institución educativa será sancionado con una multa equivalente a quince (15) salarios mínimos legales diarios vigentes.\n"
     ]
    }
   ],
   "source": [
    "input_message = \"cuanto es la multa por exceder el limite de velocidad en zona escolar\"\n",
    "\n",
    "for step in graph.stream(\n",
    "    {\"messages\": [{\"role\": \"user\", \"content\": input_message}]},\n",
    "    stream_mode=\"values\",\n",
    "):\n",
    "    step[\"messages\"][-1].pretty_print()"
   ]
  },
  {
   "cell_type": "code",
   "execution_count": null,
   "metadata": {},
   "outputs": [],
   "source": []
  }
 ],
 "metadata": {
  "kernelspec": {
   "display_name": "langchain-tests",
   "language": "python",
   "name": "python3"
  },
  "language_info": {
   "codemirror_mode": {
    "name": "ipython",
    "version": 3
   },
   "file_extension": ".py",
   "mimetype": "text/x-python",
   "name": "python",
   "nbconvert_exporter": "python",
   "pygments_lexer": "ipython3",
   "version": "3.12.9"
  }
 },
 "nbformat": 4,
 "nbformat_minor": 2
}
